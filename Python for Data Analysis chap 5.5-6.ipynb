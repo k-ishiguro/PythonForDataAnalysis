{
 "metadata": {
  "name": "",
  "signature": "sha256:7d3c4af08aea5012c611f4da0e93da37217c1c76410f384dfeb87d71f82f6b90"
 },
 "nbformat": 3,
 "nbformat_minor": 0,
 "worksheets": [
  {
   "cells": [
    {
     "cell_type": "code",
     "collapsed": false,
     "input": [
      "import numpy as np\n",
      "import pandas as pd\n",
      "from pandas import DataFrame, Series\n",
      "import matplotlib\n",
      "import matplotlib.pyplot as plt"
     ],
     "language": "python",
     "metadata": {},
     "outputs": []
    }
   ],
   "metadata": {}
  }
 ]
}
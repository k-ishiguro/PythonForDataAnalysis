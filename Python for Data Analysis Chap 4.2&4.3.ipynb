{
 "metadata": {
  "name": ""
 },
 "nbformat": 3,
 "nbformat_minor": 0,
 "worksheets": [
  {
   "cells": [
    {
     "cell_type": "code",
     "collapsed": false,
     "input": [
      "import numpy as np\n",
      "import pandas as pd\n",
      "import matplotlib.pyplot as plt"
     ],
     "language": "python",
     "metadata": {},
     "outputs": [],
     "prompt_number": 1
    },
    {
     "cell_type": "code",
     "collapsed": false,
     "input": [
      "arr = np.arange(10)\n",
      "np.sqrt(arr)"
     ],
     "language": "python",
     "metadata": {},
     "outputs": [
      {
       "metadata": {},
       "output_type": "pyout",
       "prompt_number": 2,
       "text": [
        "array([ 0.        ,  1.        ,  1.41421356,  1.73205081,  2.        ,\n",
        "        2.23606798,  2.44948974,  2.64575131,  2.82842712,  3.        ])"
       ]
      }
     ],
     "prompt_number": 2
    },
    {
     "cell_type": "code",
     "collapsed": false,
     "input": [
      "print arr\n",
      "print np.sqrt(arr) # takes only one NumPy Array object as an argument\n",
      "print np.exp(arr)"
     ],
     "language": "python",
     "metadata": {},
     "outputs": [
      {
       "output_type": "stream",
       "stream": "stdout",
       "text": [
        "[0 1 2 3 4 5 6 7 8 9]\n",
        "[ 0.          1.          1.41421356  1.73205081  2.          2.23606798\n",
        "  2.44948974  2.64575131  2.82842712  3.        ]\n",
        "[  1.00000000e+00   2.71828183e+00   7.38905610e+00   2.00855369e+01\n",
        "   5.45981500e+01   1.48413159e+02   4.03428793e+02   1.09663316e+03\n",
        "   2.98095799e+03   8.10308393e+03]\n"
       ]
      }
     ],
     "prompt_number": 3
    },
    {
     "cell_type": "code",
     "collapsed": false,
     "input": [
      "x = randn(8)\n",
      "y = randn(8)\n",
      "print x\n",
      "print y"
     ],
     "language": "python",
     "metadata": {},
     "outputs": [
      {
       "output_type": "stream",
       "stream": "stdout",
       "text": [
        "[-0.85489682 -0.21348785 -0.34193687  0.42412281  0.83657537  0.67630216\n",
        " -0.50927384  1.64868981]\n",
        "[ 0.78540239 -0.00656911 -0.91807294 -0.33336051 -0.49560519 -1.81970045\n",
        "  1.16730994 -1.35445177]\n"
       ]
      }
     ],
     "prompt_number": 4
    },
    {
     "cell_type": "code",
     "collapsed": false,
     "input": [
      "np.maximum(x, y) # element-wise max operation!"
     ],
     "language": "python",
     "metadata": {},
     "outputs": [
      {
       "metadata": {},
       "output_type": "pyout",
       "prompt_number": 5,
       "text": [
        "array([ 0.78540239, -0.00656911, -0.34193687,  0.42412281,  0.83657537,\n",
        "        0.67630216,  1.16730994,  1.64868981])"
       ]
      }
     ],
     "prompt_number": 5
    },
    {
     "cell_type": "code",
     "collapsed": false,
     "input": [
      "arr = randn(7) * 5\n",
      "print arr\n",
      "np.modf(arr) # returns two ndarray"
     ],
     "language": "python",
     "metadata": {},
     "outputs": [
      {
       "output_type": "stream",
       "stream": "stdout",
       "text": [
        "[ 0.10028416  4.80251248 -8.01638121 -4.36811461  3.08716188  9.55482127\n",
        "  3.94061217]\n"
       ]
      },
      {
       "metadata": {},
       "output_type": "pyout",
       "prompt_number": 6,
       "text": [
        "(array([ 0.10028416,  0.80251248, -0.01638121, -0.36811461,  0.08716188,\n",
        "        0.55482127,  0.94061217]),\n",
        " array([ 0.,  4., -8., -4.,  3.,  9.,  3.]))"
       ]
      }
     ],
     "prompt_number": 6
    },
    {
     "cell_type": "code",
     "collapsed": false,
     "input": [
      "# dense grid placement\n",
      "points = np.arange(-5, 5, 0.01)\n",
      "xs, ys = np.meshgrid(points, points) "
     ],
     "language": "python",
     "metadata": {},
     "outputs": [],
     "prompt_number": 7
    },
    {
     "cell_type": "code",
     "collapsed": false,
     "input": [
      "z = np.sqrt(xs**2 + ys**2)\n",
      "print z"
     ],
     "language": "python",
     "metadata": {},
     "outputs": [
      {
       "output_type": "stream",
       "stream": "stdout",
       "text": [
        "[[ 7.07106781  7.06400028  7.05693985 ...,  7.04988652  7.05693985\n",
        "   7.06400028]\n",
        " [ 7.06400028  7.05692568  7.04985815 ...,  7.04279774  7.04985815\n",
        "   7.05692568]\n",
        " [ 7.05693985  7.04985815  7.04278354 ...,  7.03571603  7.04278354\n",
        "   7.04985815]\n",
        " ..., \n",
        " [ 7.04988652  7.04279774  7.03571603 ...,  7.0286414   7.03571603\n",
        "   7.04279774]\n",
        " [ 7.05693985  7.04985815  7.04278354 ...,  7.03571603  7.04278354\n",
        "   7.04985815]\n",
        " [ 7.06400028  7.05692568  7.04985815 ...,  7.04279774  7.04985815\n",
        "   7.05692568]]\n"
       ]
      }
     ],
     "prompt_number": 8
    },
    {
     "cell_type": "code",
     "collapsed": false,
     "input": [
      "plt.imshow(z, cmap=plt.cm.gray); plt.colorbar()\n",
      "plt.title(\"Image plot of $\\sqrt(x^2 + y^2)$ for a grid of values\")"
     ],
     "language": "python",
     "metadata": {},
     "outputs": [
      {
       "metadata": {},
       "output_type": "pyout",
       "prompt_number": 9,
       "text": [
        "<matplotlib.text.Text at 0xaf1dcc0>"
       ]
      },
      {
       "metadata": {},
       "output_type": "display_data",
       "text": [
        "<matplotlib.figure.Figure at 0xaee0e48>"
       ]
      }
     ],
     "prompt_number": 9
    },
    {
     "cell_type": "code",
     "collapsed": false,
     "input": [],
     "language": "python",
     "metadata": {},
     "outputs": [],
     "prompt_number": 9
    },
    {
     "cell_type": "code",
     "collapsed": false,
     "input": [
      "xarr = np.array([1.1, 1.2, 1.3, 1.4, 1.5])\n",
      "yarr = xarr + 1.0\n",
      "cond = np.array([True, False, True, True, False])\n",
      "result = [(x if c else y) for x, y, c in zip(xarr, yarr, cond)] # zip retruns a list of tuple, where each tuple consists of elements from arguments, corresponding indices\n",
      "print result"
     ],
     "language": "python",
     "metadata": {},
     "outputs": [
      {
       "output_type": "stream",
       "stream": "stdout",
       "text": [
        "[1.1000000000000001, 2.2000000000000002, 1.3, 1.3999999999999999, 2.5]\n"
       ]
      }
     ],
     "prompt_number": 11
    },
    {
     "cell_type": "code",
     "collapsed": false,
     "input": [
      "result = np.where(cond, xarr, yarr)\n",
      "print result"
     ],
     "language": "python",
     "metadata": {},
     "outputs": [
      {
       "output_type": "stream",
       "stream": "stdout",
       "text": [
        "[ 1.1  2.2  1.3  1.4  2.5]\n"
       ]
      }
     ],
     "prompt_number": 13
    },
    {
     "cell_type": "code",
     "collapsed": false,
     "input": [
      "arr = randn(4,4)\n",
      "print arr\n",
      "np.where(arr > 0, 2, -2) # if true, set 2, else, set -2"
     ],
     "language": "python",
     "metadata": {},
     "outputs": [
      {
       "output_type": "stream",
       "stream": "stdout",
       "text": [
        "[[-1.04403273  0.23644728  1.37299137 -0.34209225]\n",
        " [ 1.9490482  -0.10936255  1.16565365  0.60166511]\n",
        " [-0.19638629 -1.28308714  1.22210275 -0.63244852]\n",
        " [-1.1925958  -1.02473636 -0.59515677  1.52518781]]\n"
       ]
      },
      {
       "metadata": {},
       "output_type": "pyout",
       "prompt_number": 14,
       "text": [
        "array([[-2,  2,  2, -2],\n",
        "       [ 2, -2,  2,  2],\n",
        "       [-2, -2,  2, -2],\n",
        "       [-2, -2, -2,  2]])"
       ]
      }
     ],
     "prompt_number": 14
    },
    {
     "cell_type": "code",
     "collapsed": false,
     "input": [
      "np.where(arr > 0, 2, arr) # if false, keep arr's values"
     ],
     "language": "python",
     "metadata": {},
     "outputs": [
      {
       "metadata": {},
       "output_type": "pyout",
       "prompt_number": 15,
       "text": [
        "array([[-1.04403273,  2.        ,  2.        , -0.34209225],\n",
        "       [ 2.        , -0.10936255,  2.        ,  2.        ],\n",
        "       [-0.19638629, -1.28308714,  2.        , -0.63244852],\n",
        "       [-1.1925958 , -1.02473636, -0.59515677,  2.        ]])"
       ]
      }
     ],
     "prompt_number": 15
    },
    {
     "cell_type": "code",
     "collapsed": false,
     "input": [
      "arr = np.random.randn(5,4)\n",
      "print arr"
     ],
     "language": "python",
     "metadata": {},
     "outputs": [
      {
       "output_type": "stream",
       "stream": "stdout",
       "text": [
        "[[-1.36715162  1.49743692  0.45688435  1.24727459]\n",
        " [-0.2762813   1.1283124  -1.11239611  0.16038681]\n",
        " [ 0.52918067 -0.53347036  0.91892281 -0.87182393]\n",
        " [-0.49893729  0.426302   -0.13863609 -0.52644904]\n",
        " [ 0.38827497 -0.20700904  0.07197663  2.10426856]]\n"
       ]
      }
     ],
     "prompt_number": 16
    },
    {
     "cell_type": "code",
     "collapsed": false,
     "input": [
      "arr.mean()"
     ],
     "language": "python",
     "metadata": {},
     "outputs": [
      {
       "metadata": {},
       "output_type": "pyout",
       "prompt_number": 17,
       "text": [
        "0.16985329688736456"
       ]
      }
     ],
     "prompt_number": 17
    },
    {
     "cell_type": "code",
     "collapsed": false,
     "input": [
      "np.mean(arr)"
     ],
     "language": "python",
     "metadata": {},
     "outputs": [
      {
       "metadata": {},
       "output_type": "pyout",
       "prompt_number": 18,
       "text": [
        "0.16985329688736456"
       ]
      }
     ],
     "prompt_number": 18
    },
    {
     "cell_type": "code",
     "collapsed": false,
     "input": [
      "arr.sum()"
     ],
     "language": "python",
     "metadata": {},
     "outputs": [
      {
       "metadata": {},
       "output_type": "pyout",
       "prompt_number": 19,
       "text": [
        "3.3970659377472909"
       ]
      }
     ],
     "prompt_number": 19
    },
    {
     "cell_type": "code",
     "collapsed": false,
     "input": [
      "arr.mean(axis=1) # specify the axis to be \"summarized\". In this case, we average over columns"
     ],
     "language": "python",
     "metadata": {},
     "outputs": [
      {
       "metadata": {},
       "output_type": "pyout",
       "prompt_number": 20,
       "text": [
        "array([ 0.45861106, -0.02499455,  0.0107023 , -0.18443011,  0.58937778])"
       ]
      }
     ],
     "prompt_number": 20
    },
    {
     "cell_type": "code",
     "collapsed": false,
     "input": [
      "arr.sum(0) # aggregate over rows"
     ],
     "language": "python",
     "metadata": {},
     "outputs": [
      {
       "metadata": {},
       "output_type": "pyout",
       "prompt_number": 21,
       "text": [
        "array([-1.22491457,  2.31157193,  0.19675158,  2.113657  ])"
       ]
      }
     ],
     "prompt_number": 21
    },
    {
     "cell_type": "code",
     "collapsed": false,
     "input": [
      "arr = randn(100)\n",
      "(arr > 0).sum() # number of positive entries"
     ],
     "language": "python",
     "metadata": {},
     "outputs": [
      {
       "metadata": {},
       "output_type": "pyout",
       "prompt_number": 22,
       "text": [
        "52"
       ]
      }
     ],
     "prompt_number": 22
    },
    {
     "cell_type": "code",
     "collapsed": false,
     "input": [
      "bools = np.array([False, False, True, False])\n",
      "bools.any() # exists logic func."
     ],
     "language": "python",
     "metadata": {},
     "outputs": [
      {
       "metadata": {},
       "output_type": "pyout",
       "prompt_number": 23,
       "text": [
        "True"
       ]
      }
     ],
     "prompt_number": 23
    },
    {
     "cell_type": "code",
     "collapsed": false,
     "input": [
      "bools.all() # forall logic func. "
     ],
     "language": "python",
     "metadata": {},
     "outputs": [
      {
       "metadata": {},
       "output_type": "pyout",
       "prompt_number": 24,
       "text": [
        "False"
       ]
      }
     ],
     "prompt_number": 24
    },
    {
     "cell_type": "code",
     "collapsed": false,
     "input": [
      "arr = randn(8)\n",
      "print arr"
     ],
     "language": "python",
     "metadata": {},
     "outputs": [
      {
       "output_type": "stream",
       "stream": "stdout",
       "text": [
        "[-0.6695968   1.37359727  0.65741012  0.6780937  -1.28169043  1.5699635\n",
        " -0.34649066  0.7169702 ]\n"
       ]
      }
     ],
     "prompt_number": 25
    },
    {
     "cell_type": "code",
     "collapsed": false,
     "input": [
      "arr.sort()\n",
      "print arr # destructive. But np.sort() is NOT destructive"
     ],
     "language": "python",
     "metadata": {},
     "outputs": [
      {
       "output_type": "stream",
       "stream": "stdout",
       "text": [
        "[-1.28169043 -0.6695968  -0.34649066  0.65741012  0.6780937   0.7169702\n",
        "  1.37359727  1.5699635 ]\n"
       ]
      }
     ],
     "prompt_number": 26
    },
    {
     "cell_type": "code",
     "collapsed": false,
     "input": [
      "arr = randn(5,3)\n",
      "print arr"
     ],
     "language": "python",
     "metadata": {},
     "outputs": [
      {
       "output_type": "stream",
       "stream": "stdout",
       "text": [
        "[[  6.26059421e-01   1.92763712e+00  -3.58139289e-01]\n",
        " [  8.72685898e-02   1.44653335e-01  -1.68123535e+00]\n",
        " [  2.96649237e-04  -7.91838513e-01  -1.15579831e+00]\n",
        " [  4.05137746e-01  -1.21479292e+00  -7.06644276e-01]\n",
        " [  5.09845752e-01  -4.25350815e-01  -9.76874091e-01]]\n"
       ]
      }
     ],
     "prompt_number": 27
    },
    {
     "cell_type": "code",
     "collapsed": false,
     "input": [
      "arr.sort(axis=1) # sorted over columns, for each rows\n",
      "print arr"
     ],
     "language": "python",
     "metadata": {},
     "outputs": [
      {
       "output_type": "stream",
       "stream": "stdout",
       "text": [
        "[[ -3.58139289e-01   6.26059421e-01   1.92763712e+00]\n",
        " [ -1.68123535e+00   8.72685898e-02   1.44653335e-01]\n",
        " [ -1.15579831e+00  -7.91838513e-01   2.96649237e-04]\n",
        " [ -1.21479292e+00  -7.06644276e-01   4.05137746e-01]\n",
        " [ -9.76874091e-01  -4.25350815e-01   5.09845752e-01]]\n"
       ]
      }
     ],
     "prompt_number": 29
    },
    {
     "cell_type": "code",
     "collapsed": false,
     "input": [
      "arr = randn(4)\n",
      "print arr"
     ],
     "language": "python",
     "metadata": {},
     "outputs": [
      {
       "output_type": "stream",
       "stream": "stdout",
       "text": [
        "[-0.53438148  1.01702383 -0.66681695 -0.93181996]\n"
       ]
      }
     ],
     "prompt_number": 30
    },
    {
     "cell_type": "code",
     "collapsed": false,
     "input": [
      "np.sort(arr)\n",
      "print arr # np.sort is not destructive"
     ],
     "language": "python",
     "metadata": {},
     "outputs": [
      {
       "output_type": "stream",
       "stream": "stdout",
       "text": [
        "[-0.53438148  1.01702383 -0.66681695 -0.93181996]\n"
       ]
      }
     ],
     "prompt_number": 31
    },
    {
     "cell_type": "code",
     "collapsed": false,
     "input": [
      "names = np.array(['Bob', 'Joe', 'Will', 'Bob', 'Will', 'Joe', 'Joe'])\n",
      "np.unique(names)"
     ],
     "language": "python",
     "metadata": {},
     "outputs": [
      {
       "metadata": {},
       "output_type": "pyout",
       "prompt_number": 32,
       "text": [
        "array(['Bob', 'Joe', 'Will'], \n",
        "      dtype='|S4')"
       ]
      }
     ],
     "prompt_number": 32
    },
    {
     "cell_type": "code",
     "collapsed": false,
     "input": [
      "values = np.array([6, 0, 0, 3, 2, 5, 6])"
     ],
     "language": "python",
     "metadata": {},
     "outputs": [],
     "prompt_number": 34
    },
    {
     "cell_type": "code",
     "collapsed": false,
     "input": [
      "np.in1d(values, [2, 3, 6]) # check if the elements of the first argument is included in the second argument"
     ],
     "language": "python",
     "metadata": {},
     "outputs": [
      {
       "metadata": {},
       "output_type": "pyout",
       "prompt_number": 35,
       "text": [
        "array([ True, False, False,  True,  True, False,  True], dtype=bool)"
       ]
      }
     ],
     "prompt_number": 35
    },
    {
     "cell_type": "code",
     "collapsed": false,
     "input": [],
     "language": "python",
     "metadata": {},
     "outputs": []
    }
   ],
   "metadata": {}
  }
 ]
}